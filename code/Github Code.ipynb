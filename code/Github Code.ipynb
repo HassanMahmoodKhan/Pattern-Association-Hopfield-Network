{
 "cells": [
  {
   "cell_type": "code",
   "execution_count": 1,
   "id": "97de277e",
   "metadata": {},
   "outputs": [],
   "source": [
    "import numpy as np\n",
    "import pandas as pd\n",
    "import array\n",
    "import matplotlib.pyplot as plt\n",
    "import seaborn as sns\n",
    "from PIL import Image"
   ]
  },
  {
   "cell_type": "markdown",
   "id": "cc01dcc1",
   "metadata": {},
   "source": [
    "Data Generation"
   ]
  },
  {
   "cell_type": "code",
   "execution_count": 2,
   "id": "56796446",
   "metadata": {},
   "outputs": [],
   "source": [
    "#Pattern 0\n",
    "pattern_0 = np.full(shape=(12, 10),fill_value=1)\n",
    "pattern_0[1][3:7] = -1\n",
    "pattern_0[2][2:8] = -1\n",
    "pattern_0[3][1:4] =  pattern_0[3][6:9] = -1\n",
    "pattern_0[4][1:4] =  pattern_0[4][6:9] = -1\n",
    "pattern_0[5][1:4] =  pattern_0[5][6:9] = -1\n",
    "pattern_0[6][1:4] =  pattern_0[6][6:9] = -1\n",
    "pattern_0[7][1:4] =  pattern_0[7][6:9] = -1\n",
    "pattern_0[8][1:4] =  pattern_0[8][6:9] = -1\n",
    "pattern_0[9][2:8] = -1\n",
    "pattern_0[10][3:7] = -1\n",
    "\n",
    "#Pattern 1\n",
    "pattern_1 = np.full(shape=(12, 10),fill_value=1)\n",
    "pattern_1[0][3:7] = -1\n",
    "pattern_1[1][3:7] = -1\n",
    "pattern_1[2][3:7] = -1\n",
    "pattern_1[3][3:7] = -1\n",
    "pattern_1[4][3:7] = -1\n",
    "pattern_1[5][3:7] = -1\n",
    "pattern_1[6][3:7] = -1\n",
    "pattern_1[7][3:7] = -1\n",
    "pattern_1[8][3:7] = -1\n",
    "pattern_1[9][3:7] = -1\n",
    "pattern_1[10][3:7] = -1\n",
    "pattern_1[11][3:7] = -1\n",
    "\n",
    "#Pattern 2\n",
    "pattern_2 = np.full(shape=(12, 10),fill_value=1)\n",
    "pattern_2[0][0:8] = -1\n",
    "pattern_2[1][0:8] = -1\n",
    "pattern_2[2][6:8] = -1\n",
    "pattern_2[3][6:8] = -1\n",
    "pattern_2[4][6:8] = -1\n",
    "pattern_2[5][0:8] = -1\n",
    "pattern_2[6][0:8] = -1\n",
    "pattern_2[7][0:2] = -1\n",
    "pattern_2[8][0:2] = -1\n",
    "pattern_2[9][0:2] = -1\n",
    "pattern_2[10][0:8] = -1\n",
    "pattern_2[11][0:8] = -1\n",
    "\n",
    "#Pattern 3\n",
    "pattern_3 = np.full(shape=(12, 10),fill_value=1)\n",
    "pattern_3[0][2:8] = -1\n",
    "pattern_3[1][2:9] = -1\n",
    "pattern_3[2][7:9] = -1\n",
    "pattern_3[3][7:9] = -1\n",
    "pattern_3[4][7:9] = -1\n",
    "pattern_3[5][4:8] = -1\n",
    "pattern_3[6][4:8] = -1\n",
    "pattern_3[7][7:9] = -1\n",
    "pattern_3[8][7:9] = -1\n",
    "pattern_3[9][7:9] = -1\n",
    "pattern_3[10][2:9] = -1\n",
    "pattern_3[11][2:8] = -1\n",
    "\n",
    "#Pattern 4\n",
    "pattern_4 = np.full(shape=(12, 10),fill_value=1)\n",
    "pattern_4[0][1:3] = pattern_4[0][7:9] = -1\n",
    "pattern_4[1][1:3] = pattern_4[1][7:9] = -1\n",
    "pattern_4[2][1:3] = pattern_4[2][7:9] = -1\n",
    "pattern_4[3][1:3] = pattern_4[3][7:9] = -1\n",
    "pattern_4[4][1:3] = pattern_4[4][7:9] = -1\n",
    "pattern_4[5][1:9] = -1\n",
    "pattern_4[6][1:9] = -1\n",
    "pattern_4[7][7:9] = -1\n",
    "pattern_4[8][7:9] = -1\n",
    "pattern_4[9][7:9] = -1\n",
    "pattern_4[10][7:9] = -1\n",
    "pattern_4[11][7:9] = -1\n",
    "\n",
    "#Pattern 6 \n",
    "pattern_6 =  np.full(shape=(12, 10),fill_value=1)\n",
    "pattern_6[0][0:6] = -1\n",
    "pattern_6[1][0:6] = -1\n",
    "pattern_6[2][0:2] = -1\n",
    "pattern_6[3][0:2] = -1\n",
    "pattern_6[4][0:2] = -1\n",
    "pattern_6[5][0:6] = -1\n",
    "pattern_6[6][0:6] = -1\n",
    "pattern_6[7][0:2] = pattern_6[7][4:6] = -1\n",
    "pattern_6[8][0:2] = pattern_6[8][4:6] = -1\n",
    "pattern_6[9][0:2] = pattern_6[9][4:6] = -1\n",
    "pattern_6[10][0:6] = -1\n",
    "pattern_6[11][0:6] = -1\n",
    "\n",
    "#Pattern 9\n",
    "pattern_9 =  np.full(shape=(12, 10),fill_value=1)\n",
    "pattern_9[0][4:] = -1\n",
    "pattern_9[1][4:] = -1\n",
    "pattern_9[2][4:6] = pattern_9[2][8:] = -1\n",
    "pattern_9[3][4:6] = pattern_9[3][8:] = -1\n",
    "pattern_9[4][4:6] = pattern_9[4][8:] = -1\n",
    "pattern_9[5][4:] = -1\n",
    "pattern_9[6][4:] = -1\n",
    "pattern_9[7][8:] = -1\n",
    "pattern_9[8][8:] = -1\n",
    "pattern_9[9][8:] = -1\n",
    "pattern_9[10][4:] = -1\n",
    "pattern_9[11][4:] = -1\n",
    "\n",
    "#Pattern dot\n",
    "pattern_dot = np.full(shape=(12, 10),fill_value=1)\n",
    "pattern_dot[0][0:5] = -1\n",
    "pattern_dot[1][0:5] = -1\n",
    "pattern_dot[2][0:5] = -1\n",
    "pattern_dot[3][0:5] = -1\n",
    "pattern_dot[4][0:5] = -1\n",
    "pattern_dot[5][0:5] = -1\n",
    "\n",
    "#Combining individual patterns into a array\n",
    "arr_0 = pattern_0.reshape(-1)\n",
    "arr_1 = pattern_1.reshape(-1)\n",
    "arr_2 = pattern_2.reshape(-1)\n",
    "arr_3 = pattern_3.reshape(-1)\n",
    "arr_4 = pattern_4.reshape(-1)\n",
    "arr_6 = pattern_6.reshape(-1)\n",
    "arr_9 = pattern_9.reshape(-1)\n",
    "arr_dot = pattern_dot.reshape(-1)\n",
    "patterns_bipolar = list()\n",
    "patterns_bipolar.append(arr_0)\n",
    "patterns_bipolar.append(arr_1)\n",
    "patterns_bipolar.append(arr_2)\n",
    "patterns_bipolar.append(arr_3)\n",
    "patterns_bipolar.append(arr_4)\n",
    "patterns_bipolar.append(arr_6)\n",
    "patterns_bipolar.append(arr_9)\n",
    "patterns_bipolar.append(arr_dot)\n",
    "patterns_bipolar = np.array(patterns_bipolar)"
   ]
  },
  {
   "cell_type": "markdown",
   "id": "fe0ec70d",
   "metadata": {},
   "source": [
    "Data Visualization"
   ]
  },
  {
   "cell_type": "code",
   "execution_count": 3,
   "id": "4c64d144",
   "metadata": {},
   "outputs": [],
   "source": [
    "def graph_plotter(patterns, height=12, width=10):\n",
    "    num_of_patterns = len(patterns)\n",
    "    fig, ax  = plt.subplots(1, num_of_patterns, figsize=(15,8))\n",
    "    for i in range(0,num_of_patterns):\n",
    "        ax[i].matshow(patterns[i].reshape((height, width)), cmap='gray')\n",
    "        ax[i].set_xticks([])\n",
    "        ax[i].set_yticks([])"
   ]
  },
  {
   "cell_type": "code",
   "execution_count": 4,
   "id": "6fa28efd",
   "metadata": {},
   "outputs": [
    {
     "data": {
      "image/png": "[encoded data removed]",
      "text/plain": [
       "<Figure size 1080x576 with 8 Axes>"
      ]
     },
     "metadata": {},
     "output_type": "display_data"
    }
   ],
   "source": [
    "graph_plotter(patterns_bipolar)"
   ]
  },
  {
   "cell_type": "code",
   "execution_count": 5,
   "id": "7e21446a",
   "metadata": {},
   "outputs": [],
   "source": [
    "def noise(patterns,n=120, nr_of_flips=30):# 25% of pixels \n",
    "    corrupted_patterns = list()\n",
    "    for pattern in patterns:\n",
    "        array = np.copy(pattern)\n",
    "        idx_reassignment = np.random.choice(n, nr_of_flips, replace=False)# pick no of pixels to flip (without replacement)\n",
    "        for i in (idx_reassignment):\n",
    "            if array[i]==-1:\n",
    "                array[i]=1\n",
    "            else:\n",
    "                array[i]=-1\n",
    "        corrupted_patterns.append(array)\n",
    "    return corrupted_patterns"
   ]
  },
  {
   "cell_type": "code",
   "execution_count": 6,
   "id": "e91c42b7",
   "metadata": {},
   "outputs": [
    {
     "data": {
      "image/png": "[encoded data removed]",
      "text/plain": [
       "<Figure size 1080x576 with 8 Axes>"
      ]
     },
     "metadata": {},
     "output_type": "display_data"
    }
   ],
   "source": [
    "noisy_patterns = noise(patterns_bipolar)\n",
    "graph_plotter(noisy_patterns)"
   ]
  },
  {
   "cell_type": "markdown",
   "id": "f720bee6",
   "metadata": {},
   "source": [
    "Model Building "
   ]
  },
  {
   "cell_type": "code",
   "execution_count": 63,
   "id": "bd2584d9",
   "metadata": {},
   "outputs": [],
   "source": [
    "class HopfieldNetwork():\n",
    "    \n",
    "    def __init__(self,patterns):\n",
    "        \n",
    "        self.patterns = patterns\n",
    "        self.n = self.patterns.shape[1] #number of neurons\n",
    "        self.weights = np.zeros((self.n,self.n)) #initializing weights matrix\n",
    "        self.energies = {'State': [], 'Energy':[]} #energy container to keep record of energies of each state\n",
    "            \n",
    "    def training(self):\n",
    "        \n",
    "        self.weights = np.dot(self.patterns.T,self.patterns)/self.n #updating weights matrix\n",
    "        np.fill_diagonal(self.weights,0)\n",
    "\n",
    "    def recall(self, x, learning = 'syn', max_iterations = 500):\n",
    "        y = np.copy(x)\n",
    "        if learning =='syn': #learning procedure i.e., synchronous or asynchronous\n",
    "            output = self.syn_update(y, max_iterations)\n",
    "        else:\n",
    "             output = self.asyn_update(y, max_iterations)\n",
    "        print(\"Learning Mode: {}\".format(learning))\n",
    "        return output\n",
    "    \n",
    "    def asyn_update(self, y, max_iterations):\n",
    "        for i in range(1,max_iterations):\n",
    "            temp = y\n",
    "            self.rand_index = np.random.randint(0,self.n) #select random neuron\n",
    "            activation = np.dot(self.weights[self.rand_index,:], y)#asynchronous update of neurons\n",
    "            self.compute_energy(y,i) #compute energy for each state\n",
    "              #threshold function for binary state change\n",
    "            if activation < 0: \n",
    "                y[self.rand_index] = -1\n",
    "            else:\n",
    "                y[self.rand_index] =  1\n",
    "#             if np.array_equal(temp, y):\n",
    "#                 break\n",
    "        return y\n",
    "        \n",
    "    def syn_update(self, y, max_iterations):\n",
    "        for i in range(1,max_iterations):\n",
    "            y_new = np.dot(self.weights, y) #synchronous update of neurons\n",
    "            self.compute_energy(y,i) #compute energy for each state\n",
    "            #threshold function for binary state change\n",
    "            y_new[y_new >= 0] = 1\n",
    "            y_new[y_new < 0] = -1\n",
    "            if np.array_equal(y_new, y):\n",
    "                break\n",
    "            else:\n",
    "                y=y_new\n",
    "        return y\n",
    "    \n",
    "    def compute_energy(self, y, iteration):\n",
    "            \n",
    "        self.energy = -0.5*np.dot(np.dot(y.T,self.weights),y)#Energy formula\n",
    "        self.energies['Energy'].append(self.energy)\n",
    "        self.energies['State'].append(iteration)\n",
    "        "
   ]
  },
  {
   "cell_type": "markdown",
   "id": "618ffc29",
   "metadata": {},
   "source": [
    "Model Training & Evaluation"
   ]
  },
  {
   "cell_type": "code",
   "execution_count": 101,
   "id": "327f07c6",
   "metadata": {},
   "outputs": [
    {
     "name": "stdout",
     "output_type": "stream",
     "text": [
      "Learning Mode: asyn\n",
      "{'State': [1, 2, 3, 4, 5, 6, 7, 8, 9, 10, 11, 12, 13, 14, 15, 16, 17, 18, 19, 20, 21, 22, 23, 24, 25, 26, 27, 28, 29, 30, 31, 32, 33, 34, 35, 36, 37, 38, 39, 40, 41, 42, 43, 44, 45, 46, 47, 48, 49, 50, 51, 52, 53, 54, 55, 56, 57, 58, 59, 60, 61, 62, 63, 64, 65, 66, 67, 68, 69, 70, 71, 72, 73, 74, 75, 76, 77, 78, 79, 80, 81, 82, 83, 84, 85, 86, 87, 88, 89, 90, 91, 92, 93, 94, 95, 96, 97, 98, 99, 100, 101, 102, 103, 104, 105, 106, 107, 108, 109, 110, 111, 112, 113, 114, 115, 116, 117, 118, 119, 120, 121, 122, 123, 124, 125, 126, 127, 128, 129, 130, 131, 132, 133, 134, 135, 136, 137, 138, 139, 140, 141, 142, 143, 144, 145, 146, 147, 148, 149, 150, 151, 152, 153, 154, 155, 156, 157, 158, 159, 160, 161, 162, 163, 164, 165, 166, 167, 168, 169, 170, 171, 172, 173, 174, 175, 176, 177, 178, 179, 180, 181, 182, 183, 184, 185, 186, 187, 188, 189, 190, 191, 192, 193, 194, 195, 196, 197, 198, 199, 200, 201, 202, 203, 204, 205, 206, 207, 208, 209, 210, 211, 212, 213, 214, 215, 216, 217, 218, 219, 220, 221, 222, 223, 224, 225, 226, 227, 228, 229, 230, 231, 232, 233, 234, 235, 236, 237, 238, 239, 240, 241, 242, 243, 244, 245, 246, 247, 248, 249, 250, 251, 252, 253, 254, 255, 256, 257, 258, 259, 260, 261, 262, 263, 264, 265, 266, 267, 268, 269, 270, 271, 272, 273, 274, 275, 276, 277, 278, 279, 280, 281, 282, 283, 284, 285, 286, 287, 288, 289, 290, 291, 292, 293, 294, 295, 296, 297, 298, 299, 300, 301, 302, 303, 304, 305, 306, 307, 308, 309, 310, 311, 312, 313, 314, 315, 316, 317, 318, 319, 320, 321, 322, 323, 324, 325, 326, 327, 328, 329, 330, 331, 332, 333, 334, 335, 336, 337, 338, 339, 340, 341, 342, 343, 344, 345, 346, 347, 348, 349, 350, 351, 352, 353, 354, 355, 356, 357, 358, 359, 360, 361, 362, 363, 364, 365, 366, 367, 368, 369, 370, 371, 372, 373, 374, 375, 376, 377, 378, 379, 380, 381, 382, 383, 384, 385, 386, 387, 388, 389, 390, 391, 392, 393, 394, 395, 396, 397, 398, 399, 400, 401, 402, 403, 404, 405, 406, 407, 408, 409, 410, 411, 412, 413, 414, 415, 416, 417, 418, 419, 420, 421, 422, 423, 424, 425, 426, 427, 428, 429, 430, 431, 432, 433, 434, 435, 436, 437, 438, 439, 440, 441, 442, 443, 444, 445, 446, 447, 448, 449, 450, 451, 452, 453, 454, 455, 456, 457, 458, 459, 460, 461, 462, 463, 464, 465, 466, 467, 468, 469, 470, 471, 472, 473, 474, 475, 476, 477, 478, 479, 480, 481, 482, 483, 484, 485, 486, 487, 488, 489, 490, 491, 492, 493, 494, 495, 496, 497, 498, 499], 'Energy': [-12.733333333333334, -13.6, -14.466666666666665, -14.466666666666665, -14.466666666666665, -15.866666666666665, -15.866666666666665, -17.333333333333332, -17.333333333333332, -17.333333333333332, -17.333333333333332, -17.333333333333332, -18.8, -18.8, -18.8, -18.8, -18.8, -18.8, -18.8, -18.8, -18.8, -18.8, -18.8, -20.066666666666666, -20.066666666666666, -20.066666666666666, -20.066666666666666, -21.46666666666667, -23.2, -23.2, -23.2, -23.2, -23.2, -23.2, -23.2, -23.2, -23.2, -23.2, -23.2, -23.2, -23.2, -23.2, -23.2, -23.2, -25.200000000000003, -25.200000000000003, -25.200000000000003, -25.200000000000003, -25.200000000000003, -25.200000000000003, -25.200000000000003, -25.200000000000003, -27.46666666666667, -27.46666666666667, -30.000000000000004, -30.000000000000004, -30.000000000000004, -30.000000000000004, -30.000000000000004, -30.000000000000004, -30.000000000000004, -30.000000000000004, -30.000000000000004, -30.000000000000004, -30.000000000000004, -31.53333333333333, -31.53333333333333, -31.53333333333333, -31.53333333333333, -31.53333333333333, -31.53333333333333, -31.53333333333333, -31.53333333333333, -31.53333333333333, -33.6, -33.6, -33.6, -33.6, -33.6, -33.6, -33.6, -34.866666666666674, -34.866666666666674, -34.866666666666674, -34.866666666666674, -34.866666666666674, -34.866666666666674, -35.60000000000001, -35.60000000000001, -35.60000000000001, -35.60000000000001, -35.60000000000001, -35.60000000000001, -35.60000000000001, -35.60000000000001, -35.60000000000001, -35.60000000000001, -35.60000000000001, -35.60000000000001, -35.60000000000001, -35.60000000000001, -38.13333333333334, -38.13333333333334, -38.13333333333334, -38.13333333333334, -38.13333333333334, -38.13333333333334, -38.13333333333334, -40.66666666666667, -40.66666666666667, -40.66666666666667, -40.66666666666667, -40.66666666666667, -40.66666666666667, -40.66666666666667, -40.66666666666667, -40.866666666666674, -40.866666666666674, -40.866666666666674, -40.866666666666674, -40.866666666666674, -43.466666666666676, -43.466666666666676, -43.466666666666676, -43.466666666666676, -43.466666666666676, -43.466666666666676, -43.466666666666676, -43.466666666666676, -43.466666666666676, -43.466666666666676, -43.466666666666676, -43.466666666666676, -43.466666666666676, -43.466666666666676, -43.466666666666676, -43.466666666666676, -43.466666666666676, -43.466666666666676, -43.466666666666676, -43.466666666666676, -43.466666666666676, -43.466666666666676, -43.466666666666676, -43.466666666666676, -43.466666666666676, -43.466666666666676, -43.466666666666676, -43.466666666666676, -45.33333333333334, -45.33333333333334, -45.33333333333334, -45.33333333333334, -45.33333333333334, -45.33333333333334, -45.33333333333334, -45.33333333333334, -45.33333333333334, -48.400000000000006, -48.400000000000006, -48.400000000000006, -48.400000000000006, -48.400000000000006, -48.400000000000006, -48.400000000000006, -48.400000000000006, -48.400000000000006, -48.400000000000006, -49.20000000000002, -49.20000000000002, -50.533333333333346, -50.533333333333346, -50.533333333333346, -50.533333333333346, -50.533333333333346, -50.533333333333346, -50.533333333333346, -50.533333333333346, -50.533333333333346, -50.533333333333346, -53.06666666666668, -53.06666666666668, -53.06666666666668, -53.06666666666668, -53.06666666666668, -53.06666666666668, -53.06666666666668, -53.06666666666668, -53.06666666666668, -53.06666666666668, -53.06666666666668, -53.06666666666668, -53.06666666666668, -53.06666666666668, -53.06666666666668, -53.06666666666668, -53.06666666666668, -55.066666666666684, -55.066666666666684, -55.066666666666684, -55.066666666666684, -55.066666666666684, -55.066666666666684, -55.066666666666684, -55.066666666666684, -55.066666666666684, -55.066666666666684, -55.066666666666684, -56.60000000000002, -59.600000000000016, -59.600000000000016, -59.600000000000016, -59.600000000000016, -61.60000000000002, -61.60000000000002, -61.60000000000002, -61.60000000000002, -61.60000000000002, -61.60000000000002, -61.60000000000002, -61.60000000000002, -61.60000000000002, -61.60000000000002, -61.60000000000002, -61.60000000000002, -61.60000000000002, -61.60000000000002, -61.60000000000002, -61.60000000000002, -61.60000000000002, -61.60000000000002, -61.60000000000002, -61.60000000000002, -61.60000000000002, -61.60000000000002, -61.60000000000002, -61.60000000000002, -61.60000000000002, -61.60000000000002, -61.60000000000002, -61.60000000000002, -61.60000000000002, -61.60000000000002, -61.60000000000002, -61.60000000000002, -61.60000000000002, -61.60000000000002, -61.60000000000002, -61.60000000000002, -61.60000000000002, -61.60000000000002, -61.60000000000002, -61.60000000000002, -61.60000000000002, -61.60000000000002, -61.60000000000002, -61.60000000000002, -61.60000000000002, -61.60000000000002, -61.60000000000002, -61.60000000000002, -61.60000000000002, -61.60000000000002, -61.60000000000002, -61.60000000000002, -63.46666666666668, -63.46666666666668, -63.46666666666668, -63.46666666666668, -63.46666666666668, -63.46666666666668, -63.46666666666668, -63.46666666666668, -63.46666666666668, -63.46666666666668, -63.46666666666668, -63.46666666666668, -63.46666666666668, -63.46666666666668, -63.46666666666668, -63.46666666666668, -63.46666666666668, -63.46666666666668, -63.46666666666668, -63.46666666666668, -63.46666666666668, -63.46666666666668, -63.46666666666668, -63.46666666666668, -63.46666666666668, -63.46666666666668, -63.46666666666668, -63.46666666666668, -63.46666666666668, -63.46666666666668, -63.46666666666668, -63.46666666666668, -63.46666666666668, -63.46666666666668, -63.46666666666668, -63.46666666666668, -63.46666666666668, -63.46666666666668, -63.46666666666668, -63.46666666666668, -63.46666666666668, -63.46666666666668, -63.46666666666668, -63.46666666666668, -63.46666666666668, -63.46666666666668, -63.46666666666668, -63.46666666666668, -63.46666666666668, -63.46666666666668, -63.46666666666668, -63.46666666666668, -63.46666666666668, -63.46666666666668, -63.46666666666668, -63.46666666666668, -63.46666666666668, -63.46666666666668, -63.46666666666668, -63.46666666666668, -63.46666666666668, -63.46666666666668, -63.46666666666668, -63.46666666666668, -63.46666666666668, -63.46666666666668, -63.46666666666668, -63.46666666666668, -63.46666666666668, -63.46666666666668, -63.46666666666668, -63.46666666666668, -63.46666666666668, -63.46666666666668, -63.46666666666668, -63.46666666666668, -63.46666666666668, -63.46666666666668, -63.46666666666668, -63.46666666666668, -63.46666666666668, -63.46666666666668, -63.46666666666668, -63.46666666666668, -63.46666666666668, -63.46666666666668, -63.46666666666668, -63.46666666666668, -63.46666666666668, -63.46666666666668, -63.46666666666668, -63.46666666666668, -63.46666666666668, -63.46666666666668, -63.46666666666668, -63.46666666666668, -63.46666666666668, -63.46666666666668, -63.46666666666668, -63.46666666666668, -63.46666666666668, -63.46666666666668, -63.46666666666668, -63.46666666666668, -63.46666666666668, -63.46666666666668, -63.46666666666668, -63.46666666666668, -63.46666666666668, -63.46666666666668, -63.46666666666668, -63.46666666666668, -63.46666666666668, -63.46666666666668, -63.46666666666668, -63.46666666666668, -63.46666666666668, -63.46666666666668, -63.46666666666668, -63.46666666666668, -63.46666666666668, -63.46666666666668, -63.46666666666668, -63.46666666666668, -63.46666666666668, -63.46666666666668, -63.46666666666668, -63.46666666666668, -63.46666666666668, -63.46666666666668, -63.46666666666668, -64.80000000000001, -64.80000000000001, -64.80000000000001, -64.80000000000001, -64.80000000000001, -64.80000000000001, -64.80000000000001, -64.80000000000001, -64.80000000000001, -64.80000000000001, -64.80000000000001, -64.80000000000001, -64.80000000000001, -64.80000000000001, -64.80000000000001, -64.80000000000001, -64.80000000000001, -64.80000000000001, -64.80000000000001, -64.80000000000001, -64.80000000000001, -64.80000000000001, -64.80000000000001, -64.80000000000001, -64.80000000000001, -64.80000000000001, -64.80000000000001, -64.80000000000001, -64.80000000000001, -64.80000000000001, -64.80000000000001, -64.80000000000001, -64.80000000000001, -64.80000000000001, -64.80000000000001, -64.80000000000001, -64.80000000000001, -64.80000000000001, -64.80000000000001, -64.80000000000001, -64.80000000000001, -64.80000000000001, -64.80000000000001, -64.80000000000001, -64.80000000000001, -64.80000000000001, -64.80000000000001, -64.80000000000001, -64.80000000000001, -64.80000000000001, -64.80000000000001, -64.80000000000001, -64.80000000000001, -64.80000000000001, -64.80000000000001, -64.80000000000001, -66.80000000000001, -66.80000000000001, -66.80000000000001, -66.80000000000001, -66.80000000000001, -66.80000000000001, -66.80000000000001, -66.80000000000001, -66.80000000000001, -66.80000000000001, -66.80000000000001, -66.80000000000001, -66.80000000000001, -66.80000000000001, -66.80000000000001, -66.80000000000001, -66.80000000000001, -66.80000000000001, -66.80000000000001, -66.80000000000001, -66.80000000000001, -66.80000000000001, -66.80000000000001, -66.80000000000001, -66.80000000000001, -66.80000000000001, -66.80000000000001, -66.80000000000001, -66.80000000000001, -66.80000000000001, -66.80000000000001, -66.80000000000001, -66.80000000000001, -66.80000000000001, -66.80000000000001, -66.80000000000001, -66.80000000000001, -66.80000000000001, -66.80000000000001, -66.80000000000001, -66.80000000000001, -66.80000000000001, -66.80000000000001, -66.80000000000001, -66.80000000000001, -66.80000000000001, -66.80000000000001]}\n"
     ]
    },
    {
     "data": {
      "image/png": "[encoded data removed]",
      "text/plain": [
       "<Figure size 864x720 with 3 Axes>"
      ]
     },
     "metadata": {
      "needs_background": "light"
     },
     "output_type": "display_data"
    }
   ],
   "source": [
    "H_net = HopfieldNetwork(patterns_bipolar)\n",
    "H_net.training()\n",
    "y = H_net.recall(noisy_patterns[7],'asyn')\n",
    "\n",
    "fig = plt.figure(figsize=(12, 10))\n",
    "\n",
    "fig.add_subplot(1, 3, 1)\n",
    "plt.imshow(noisy_patterns[7].reshape((12, 10)), cmap='gray')\n",
    "plt.title(\"Input Pattern\")\n",
    "\n",
    "fig.add_subplot(1, 3, 2)\n",
    "plt.imshow(y.reshape((12, 10)), cmap='gray')\n",
    "plt.title(\"Associated Pattern\")\n",
    "\n",
    "fig.add_subplot(1, 3, 3)\n",
    "plt.imshow(patterns_bipolar[7].reshape((12, 10)), cmap='gray')\n",
    "plt.title(\"True Pattern\")\n",
    "\n",
    "print(H_net.energies)"
   ]
  },
  {
   "cell_type": "code",
   "execution_count": 102,
   "id": "0f677c31",
   "metadata": {},
   "outputs": [
    {
     "name": "stdout",
     "output_type": "stream",
     "text": [
      "[-12.73, -13.6, -14.47, -15.87, -17.33, -18.8, -20.07, -21.47, -23.2, -25.2, -27.47, -30.0, -31.53, -33.6, -34.87, -35.6, -38.13, -40.67, -40.87, -43.47, -45.33, -48.4, -49.2, -50.53, -53.07, -55.07, -56.6, -59.6, -61.6, -63.47, -64.8, -66.8]\n"
     ]
    }
   ],
   "source": [
    "u = set(H_net.energies['Energy'])\n",
    "b = list(u)\n",
    "c = [round(num, 2) for num in b]\n",
    "print(c[::-1])\n"
   ]
  },
  {
   "cell_type": "code",
   "execution_count": 107,
   "id": "6e4cf709",
   "metadata": {},
   "outputs": [
    {
     "data": {
      "text/plain": [
       "500"
      ]
     },
     "execution_count": 107,
     "metadata": {},
     "output_type": "execute_result"
    }
   ],
   "source": [
    "# p0=H_net.energies['Energy']\n",
    "# p1 = H_net.energies['Energy']\n",
    "# p2 = H_net.energies['Energy']\n",
    "# p3 = H_net.energies['Energy']\n",
    "# p4 = H_net.energies['Energy']\n",
    "# p5 = H_net.energies['Energy']\n",
    "# p6 = H_net.energies['Energy']\n",
    "# p7 = H_net.energies['Energy']\n",
    "len(X)\n",
    "# history = pd.DataFrame()"
   ]
  },
  {
   "cell_type": "code",
   "execution_count": 111,
   "id": "a86cd6d1",
   "metadata": {},
   "outputs": [
    {
     "data": {
      "image/png": "[encoded data removed]",
      "text/plain": [
       "<Figure size 576x432 with 1 Axes>"
      ]
     },
     "metadata": {
      "needs_background": "light"
     },
     "output_type": "display_data"
    }
   ],
   "source": [
    "X = np.arange(499)\n",
    "plt.figure(figsize=(8, 6))\n",
    "plt.plot(X, p0, label='pattern_0')\n",
    "plt.plot(X, p1, label='pattern_1')\n",
    "plt.plot(X, p2, label='pattern_2')\n",
    "plt.plot(X, p3, label='pattern_3')\n",
    "plt.plot(X, p4, label='pattern_4')\n",
    "plt.plot(X, p5, label='pattern_6')\n",
    "plt.plot(X, p6, label='pattern_9')\n",
    "plt.plot(X, p7, label='pattern_dot')\n",
    "plt.title('State vs Energy Plot (Asynchronous Learning)')\n",
    "plt.xlabel('State')\n",
    "plt.ylabel('Energy')\n",
    "plt.legend()\n",
    "plt.show()"
   ]
  },
  {
   "cell_type": "code",
   "execution_count": null,
   "id": "bd653b85",
   "metadata": {},
   "outputs": [],
   "source": []
  }
 ],
 "metadata": {
  "kernelspec": {
   "display_name": "Python 3 (ipykernel)",
   "language": "python",
   "name": "python3"
  },
  "language_info": {
   "codemirror_mode": {
    "name": "ipython",
    "version": 3
   },
   "file_extension": ".py",
   "mimetype": "text/x-python",
   "name": "python",
   "nbconvert_exporter": "python",
   "pygments_lexer": "ipython3",
   "version": "3.9.12"
  }
 },
 "nbformat": 4,
 "nbformat_minor": 5
}
